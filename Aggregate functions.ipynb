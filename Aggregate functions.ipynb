{
 "cells": [
  {
   "cell_type": "markdown",
   "id": "e795b1fb",
   "metadata": {},
   "source": [
    "# Example Aggreagte Function"
   ]
  },
  {
   "cell_type": "code",
   "execution_count": null,
   "id": "9ed6fe96",
   "metadata": {},
   "outputs": [],
   "source": [
    "import numpy as np\n",
    "\n",
    "# Sample data\n",
    "data = np.array([1, 2, 3, np.nan, 4, 5])\n",
    "\n",
    "# Compute sum of elements\n",
    "sum_result = np.sum(data)\n",
    "nan_sum_result = np.nansum(data)\n",
    "print(f\"np.sum(data): {sum_result}, np.nansum(data): {nan_sum_result}\")\n",
    "\n",
    "# Compute product of elements\n",
    "prod_result = np.prod(data)\n",
    "nan_prod_result = np.nanprod(data)\n",
    "print(f\"np.prod(data): {prod_result}, np.nanprod(data): {nan_prod_result}\")\n",
    "\n",
    "# Compute mean of elements\n",
    "mean_result = np.mean(data)\n",
    "nan_mean_result = np.nanmean(data)\n",
    "print(f\"np.mean(data): {mean_result}, np.nanmean(data): {nan_mean_result}\")\n",
    "\n",
    "# Compute standard deviation\n",
    "std_result = np.std(data)\n",
    "nan_std_result = np.nanstd(data)\n",
    "print(f\"np.std(data): {std_result}, np.nanstd(data): {nan_std_result}\")\n",
    "\n",
    "# Compute variance\n",
    "var_result = np.var(data)\n",
    "nan_var_result = np.nanvar(data)\n",
    "print(f\"np.var(data): {var_result}, np.nanvar(data): {nan_var_result}\")\n",
    "\n",
    "# Find minimum value\n",
    "min_result = np.min(data)\n",
    "nan_min_result = np.nanmin(data)\n",
    "print(f\"np.min(data): {min_result}, np.nanmin(data): {nan_min_result}\")\n",
    "\n",
    "# Find maximum value\n",
    "max_result = np.max(data)\n",
    "nan_max_result = np.nanmax(data)\n",
    "print(f\"np.max(data): {max_result}, np.nanmax(data): {nan_max_result}\")\n",
    "\n",
    "# Find index of minimum value\n",
    "argmin_result = np.argmin(data)\n",
    "nan_argmin_result = np.nanargmin(data)\n",
    "print(f\"np.argmin(data): {argmin_result}, np.nanargmin(data): {nan_argmin_result}\")\n",
    "\n",
    "# Find index of maximum value\n",
    "argmax_result = np.argmax(data)\n",
    "nan_argmax_result = np.nanargmax(data)\n",
    "print(f\"np.argmax(data): {argmax_result}, np.nanargmax(data): {nan_argmax_result}\")\n",
    "\n",
    "# Compute median of elements\n",
    "median_result = np.median(data)\n",
    "nan_median_result = np.nanmedian(data)\n",
    "print(f\"np.median(data): {median_result}, np.nanmedian(data): {nan_median_result}\")\n",
    "\n",
    "# Evaluate whether any elements are true\n",
    "any_result = np.any(data)\n",
    "print(f\"np.any(data): {any_result}\")\n",
    "\n",
    "# Evaluate whether all elements are true\n",
    "all_result = np.all(data)\n",
    "print(f\"np.all(data): {all_result}\")\n"
   ]
  }
 ],
 "metadata": {
  "kernelspec": {
   "display_name": "Python 3",
   "language": "python",
   "name": "python3"
  },
  "language_info": {
   "codemirror_mode": {
    "name": "ipython",
    "version": 3
   },
   "file_extension": ".py",
   "mimetype": "text/x-python",
   "name": "python",
   "nbconvert_exporter": "python",
   "pygments_lexer": "ipython3",
   "version": "3.8.8"
  }
 },
 "nbformat": 4,
 "nbformat_minor": 5
}
