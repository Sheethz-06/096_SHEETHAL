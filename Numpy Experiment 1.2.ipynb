{
 "cells": [
  {
   "cell_type": "markdown",
   "id": "d2d5e080",
   "metadata": {},
   "source": [
    "# Ex No 1.e: Splitting and Aggregation\n",
    "Aim: To practice slicing, indexing, splitting, and aggregating Numpy arrays.\n",
    "Scenario: You are analysing the monthly rainfall data of a region for a year. You need to extract specific information for analysis, including quarterly splits and total rainfall for each quarter.\n",
    "Sample Dataset:\n",
    "rainfall_data = [120, 85, 90, 110, 95, 100, 105, 85, 115, 130, 125, 140]\n",
    "Task to be Performed:\n",
    "1.\tCreate a Numpy array from the given rainfall data.\n",
    "2.\tSlice the array to get the rainfall data for the first quarter (January to March).\n",
    "3.\tIndex the array to get the rainfall data for July.\n",
    "4.\tSplit the array into four quarters and print each quarter's data.\n",
    "5.\tCalculate and print the total rainfall for each quarter and also print the month with the highest rainfall in each month\n",
    "\n"
   ]
  },
  {
   "cell_type": "markdown",
   "id": "0d1254bc",
   "metadata": {},
   "source": []
  }
 ],
 "metadata": {
  "kernelspec": {
   "display_name": "Python 3",
   "language": "python",
   "name": "python3"
  },
  "language_info": {
   "codemirror_mode": {
    "name": "ipython",
    "version": 3
   },
   "file_extension": ".py",
   "mimetype": "text/x-python",
   "name": "python",
   "nbconvert_exporter": "python",
   "pygments_lexer": "ipython3",
   "version": "3.8.8"
  }
 },
 "nbformat": 4,
 "nbformat_minor": 5
}
