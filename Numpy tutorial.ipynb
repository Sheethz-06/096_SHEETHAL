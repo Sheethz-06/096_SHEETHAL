{
 "cells": [
  {
   "cell_type": "markdown",
   "id": "4baa6e20",
   "metadata": {},
   "source": [
    "###### What is Numpy?\n",
    "Numpy is a fundamental library for numerical computations in Python. It provides support for arrays, matrices, and many mathematical functions."
   ]
  },
  {
   "cell_type": "markdown",
   "id": "411f12d6",
   "metadata": {},
   "source": [
    "###### Installing Numpy:\n",
    "To install Numpy, use the following command:\n",
    "pip install numpy\n"
   ]
  },
  {
   "cell_type": "markdown",
   "id": "350d6edd",
   "metadata": {},
   "source": [
    "###### Importing Numpy:\n",
    "To use Numpy in your code, import it as follows:\n",
    "import numpy as np\n"
   ]
  },
  {
   "cell_type": "code",
   "execution_count": 6,
   "id": "94f981d0",
   "metadata": {},
   "outputs": [],
   "source": [
    "import numpy as np"
   ]
  },
  {
   "cell_type": "markdown",
   "id": "cbc999d6",
   "metadata": {},
   "source": [
    "# Creating numpy arrays:\n",
    "You can create arrays using np.array() function and also using many other functions"
   ]
  },
  {
   "cell_type": "code",
   "execution_count": 2,
   "id": "6632717f",
   "metadata": {},
   "outputs": [
    {
     "name": "stdout",
     "output_type": "stream",
     "text": [
      "[1 2 3 4]\n"
     ]
    }
   ],
   "source": [
    "arr = np.array([1, 2, 3, 4])\n",
    "print(arr)"
   ]
  },
  {
   "cell_type": "code",
   "execution_count": 4,
   "id": "66451a8a",
   "metadata": {},
   "outputs": [
    {
     "name": "stdout",
     "output_type": "stream",
     "text": [
      "Integer array: [1 2 3]\n",
      "Float array: [1. 2. 3.]\n",
      "Complex array: [1.+0.j 2.+0.j 3.+0.j]\n"
     ]
    }
   ],
   "source": [
    "# Integer array\n",
    "int_arr = np.array([1, 2, 3], dtype='int')\n",
    "print(\"Integer array:\", int_arr)\n",
    "\n",
    "# Float array\n",
    "float_arr = np.array([1, 2, 3], dtype='float')\n",
    "print(\"Float array:\", float_arr)\n",
    "\n",
    "# Complex array\n",
    "complex_arr = np.array([1, 2, 3], dtype='complex')\n",
    "print(\"Complex array:\", complex_arr)\n"
   ]
  },
  {
   "cell_type": "code",
   "execution_count": 5,
   "id": "9ed33673",
   "metadata": {},
   "outputs": [
    {
     "name": "stdout",
     "output_type": "stream",
     "text": [
      "2D array:\n",
      " [[1 2 3]\n",
      " [4 5 6]]\n",
      "3D array:\n",
      " [[[1 2]\n",
      "  [3 4]]\n",
      "\n",
      " [[5 6]\n",
      "  [7 8]]]\n"
     ]
    }
   ],
   "source": [
    "# 2D array\n",
    "arr_2d = np.array([[1, 2, 3], [4, 5, 6]])\n",
    "print(\"2D array:\\n\", arr_2d)\n",
    "\n",
    "# 3D array\n",
    "arr_3d = np.array([[[1, 2], [3, 4]], [[5, 6], [7, 8]]])\n",
    "print(\"3D array:\\n\", arr_3d)\n"
   ]
  },
  {
   "cell_type": "code",
   "execution_count": 3,
   "id": "41048997",
   "metadata": {},
   "outputs": [
    {
     "name": "stdout",
     "output_type": "stream",
     "text": [
      "Zeros array:\n",
      " [[0. 0. 0.]\n",
      " [0. 0. 0.]]\n",
      "Ones array:\n",
      " [[1. 1. 1.]\n",
      " [1. 1. 1.]]\n",
      "Empty array:\n",
      " [[1. 1. 1.]\n",
      " [1. 1. 1.]]\n"
     ]
    }
   ],
   "source": [
    "zeros_arr = np.zeros((2, 3))\n",
    "print(\"Zeros array:\\n\", zeros_arr)\n",
    "ones_arr = np.ones((2, 3))\n",
    "print(\"Ones array:\\n\", ones_arr)\n",
    "empty_arr = np.empty((2, 3))\n",
    "print(\"Empty array:\\n\", empty_arr)\n"
   ]
  },
  {
   "cell_type": "code",
   "execution_count": 7,
   "id": "a452dd2d",
   "metadata": {},
   "outputs": [
    {
     "name": "stdout",
     "output_type": "stream",
     "text": [
      "Range array: [0 2 4 6 8]\n"
     ]
    }
   ],
   "source": [
    "range_arr = np.arange(0, 10, 2)  # Start, stop, step\n",
    "print(\"Range array:\", range_arr)\n"
   ]
  },
  {
   "cell_type": "code",
   "execution_count": 8,
   "id": "7f7625d8",
   "metadata": {},
   "outputs": [
    {
     "name": "stdout",
     "output_type": "stream",
     "text": [
      "Linearly spaced array: [0.   0.25 0.5  0.75 1.  ]\n"
     ]
    }
   ],
   "source": [
    "linspace_arr = np.linspace(0, 1, 5)  # Start, stop, number of points\n",
    "print(\"Linearly spaced array:\", linspace_arr)\n"
   ]
  },
  {
   "cell_type": "code",
   "execution_count": 11,
   "id": "61c0ea94",
   "metadata": {},
   "outputs": [
    {
     "name": "stdout",
     "output_type": "stream",
     "text": [
      "Identity matrix:\n",
      " [[1. 0. 0.]\n",
      " [0. 1. 0.]\n",
      " [0. 0. 1.]]\n"
     ]
    }
   ],
   "source": [
    "identity_matrix = np.eye(3)  # 3x3 identity matrix\n",
    "print(\"Identity matrix:\\n\", identity_matrix)\n"
   ]
  },
  {
   "cell_type": "code",
   "execution_count": 12,
   "id": "0bf1260f",
   "metadata": {},
   "outputs": [
    {
     "name": "stdout",
     "output_type": "stream",
     "text": [
      "Diagonal matrix:\n",
      " [[1 0 0]\n",
      " [0 2 0]\n",
      " [0 0 3]]\n"
     ]
    }
   ],
   "source": [
    "diagonal_matrix = np.diag([1, 2, 3])\n",
    "print(\"Diagonal matrix:\\n\", diagonal_matrix)\n"
   ]
  },
  {
   "cell_type": "code",
   "execution_count": 10,
   "id": "56aa2333",
   "metadata": {},
   "outputs": [
    {
     "name": "stdout",
     "output_type": "stream",
     "text": [
      "Reshaped array:\n",
      " [[1 2 3]\n",
      " [4 5 6]]\n"
     ]
    },
    {
     "data": {
      "text/plain": [
       "array([[1, 2, 3, 4, 5, 6]])"
      ]
     },
     "execution_count": 10,
     "metadata": {},
     "output_type": "execute_result"
    }
   ],
   "source": [
    "arr = np.array([1, 2, 3, 4, 5, 6])\n",
    "reshaped_arr = arr.reshape((2, 3))\n",
    "print(\"Reshaped array:\\n\", reshaped_arr)\n",
    "arr=np.array([[1,2],[3,4],[5,6]])\n",
    "reshaped_arr = arr.reshape((1,6))\n",
    "reshaped_arr"
   ]
  },
  {
   "cell_type": "code",
   "execution_count": 14,
   "id": "b3ae685e",
   "metadata": {},
   "outputs": [
    {
     "name": "stdout",
     "output_type": "stream",
     "text": [
      "Flattened array: [1 2 3 4 5 6]\n"
     ]
    }
   ],
   "source": [
    "arr_2d = np.array([[1, 2, 3], [4, 5, 6]])\n",
    "flattened_arr = arr_2d.flatten()\n",
    "print(\"Flattened array:\", flattened_arr)\n"
   ]
  },
  {
   "cell_type": "markdown",
   "id": "57df86fc",
   "metadata": {},
   "source": [
    "# Numpy Array Properties\n"
   ]
  },
  {
   "cell_type": "code",
   "execution_count": 15,
   "id": "a233f69f",
   "metadata": {},
   "outputs": [
    {
     "name": "stdout",
     "output_type": "stream",
     "text": [
      "Shape: (2, 3)\n",
      "Size: 6\n",
      "Number of dimensions: 2\n",
      "Data type: int32\n",
      "Item size: 4\n",
      "Total bytes: 24\n",
      "Transposed array:\n",
      " [[1 4]\n",
      " [2 5]\n",
      " [3 6]]\n",
      "Flat array: [1, 2, 3, 4, 5, 6]\n",
      "Real part: [1. 3. 5.]\n",
      "Imaginary part: [2. 4. 6.]\n"
     ]
    }
   ],
   "source": [
    "import numpy as np\n",
    "\n",
    "### Numpy Array Properties\n",
    "\n",
    "# Create a sample array\n",
    "arr = np.array([[1, 2, 3], [4, 5, 6]])\n",
    "\n",
    "# 1. Shape\n",
    "print(\"Shape:\", arr.shape)\n",
    "# Output: Shape: (2, 3)\n",
    "\n",
    "# 2. Size\n",
    "print(\"Size:\", arr.size)\n",
    "# Output: Size: 6\n",
    "\n",
    "# 3. Number of dimensions (ndim)\n",
    "print(\"Number of dimensions:\", arr.ndim)\n",
    "# Output: Number of dimensions: 2\n",
    "\n",
    "# 4. Data type (dtype)\n",
    "print(\"Data type:\", arr.dtype)\n",
    "# Output: Data type: int64\n",
    "\n",
    "# 5. Item size (itemsize)\n",
    "print(\"Item size:\", arr.itemsize)\n",
    "# Output: Item size: 8\n",
    "\n",
    "# 6. Total bytes consumed by the elements (nbytes)\n",
    "print(\"Total bytes:\", arr.nbytes)\n",
    "# Output: Total bytes: 48\n",
    "\n",
    "# 7. Transpose (T)\n",
    "print(\"Transposed array:\\n\", arr.T)\n",
    "# Output: \n",
    "# Transposed array:\n",
    "# [[1 4]\n",
    "#  [2 5]\n",
    "#  [3 6]]\n",
    "\n",
    "# 8. Flat (flat)\n",
    "print(\"Flat array:\", list(arr.flat))\n",
    "# Output: Flat array: [1, 2, 3, 4, 5, 6]\n",
    "\n",
    "# Create a complex array\n",
    "complex_arr = np.array([1+2j, 3+4j, 5+6j])\n",
    "\n",
    "# 9. Real part (real)\n",
    "print(\"Real part:\", complex_arr.real)\n",
    "# Output: Real part: [1. 3. 5.]\n",
    "\n",
    "# 10. Imaginary part (imag)\n",
    "print(\"Imaginary part:\", complex_arr.imag)\n",
    "# Output: Imaginary part: [2. 4. 6.]\n",
    "\n"
   ]
  },
  {
   "cell_type": "markdown",
   "id": "bbab61bc",
   "metadata": {},
   "source": [
    "# Basic Array Operations\n"
   ]
  },
  {
   "cell_type": "code",
   "execution_count": 16,
   "id": "f38432b6",
   "metadata": {},
   "outputs": [
    {
     "name": "stdout",
     "output_type": "stream",
     "text": [
      "1\n",
      "[2 3 4]\n"
     ]
    }
   ],
   "source": [
    "#indexing and slicing-1D Arrays\n",
    "arr = np.array([1, 2, 3, 4, 5])\n",
    "print(arr[0])    # First element\n",
    "print(arr[1:4])  # Elements from index 1 to 3\n"
   ]
  },
  {
   "cell_type": "code",
   "execution_count": 18,
   "id": "298c0eac",
   "metadata": {},
   "outputs": [
    {
     "name": "stdout",
     "output_type": "stream",
     "text": [
      "2\n",
      "[1 2 3 4]\n",
      "[2 6]\n",
      "[1 3]\n",
      "[[8 7 6 5]\n",
      " [4 3 2 1]]\n"
     ]
    }
   ],
   "source": [
    "#indexing and slicing-2D Arrays\n",
    "arr = np.array([1, 2, 3, 4, 5,6,7,8]).reshape((2,4))\n",
    "print(arr[0,1])#second element in first row\n",
    "print(arr[0,:])#first row\n",
    "print(arr[:,1])#second column\n",
    "print(arr[0,::2])#first row values with step count 2\n",
    "print(arr[::-1,::-1])#revefrse by row first and then reverse by column "
   ]
  },
  {
   "cell_type": "code",
   "execution_count": 17,
   "id": "388c8eac",
   "metadata": {},
   "outputs": [
    {
     "name": "stdout",
     "output_type": "stream",
     "text": [
      "[[1 2 3]\n",
      " [4 5 6]]\n"
     ]
    }
   ],
   "source": [
    "#Reshaping\n",
    "arr = np.array([1, 2, 3, 4, 5, 6])\n",
    "reshaped_arr = arr.reshape((2, 3))\n",
    "print(reshaped_arr)\n"
   ]
  },
  {
   "cell_type": "code",
   "execution_count": 20,
   "id": "8fe21fdd",
   "metadata": {},
   "outputs": [
    {
     "name": "stdout",
     "output_type": "stream",
     "text": [
      "[[11 12]\n",
      " [23 45]\n",
      " [17 18]\n",
      " [34 56]]\n",
      "[[11 12 17 18]\n",
      " [23 45 34 56]]\n",
      "[[11 12 17 18]\n",
      " [23 45 34 56]]\n"
     ]
    }
   ],
   "source": [
    "#Concatenate -same dimensions\n",
    "arr=np.array([[11,12],[23,45]])\n",
    "arr1=np.array([[17,18],[34,56]])\n",
    "res=np.concatenate([arr,arr1])\n",
    "res1=np.concatenate([arr,arr1],axis=1)\n",
    "res2=np.hstack([arr,arr1])\n",
    "print(res)\n",
    "print(res1)\n",
    "print(res2)"
   ]
  },
  {
   "cell_type": "code",
   "execution_count": 36,
   "id": "db8bc959",
   "metadata": {},
   "outputs": [
    {
     "name": "stdout",
     "output_type": "stream",
     "text": [
      "[[1 2 3]\n",
      " [4 5 6]\n",
      " [7 8 9]]\n"
     ]
    }
   ],
   "source": [
    "#Concatenate -diff dimensions(1D and 2D)\n",
    "arr=np.array([1,2,3])\n",
    "arr1=np.array([[4,5,6],[7,8,9]])\n",
    "res=np.vstack([arr,arr1])\n",
    "print(res)"
   ]
  },
  {
   "cell_type": "code",
   "execution_count": 23,
   "id": "0c96cf32",
   "metadata": {},
   "outputs": [
    {
     "name": "stdout",
     "output_type": "stream",
     "text": [
      "[1 2 3]\n",
      "[4 5 6]\n",
      "[7 8 9]\n"
     ]
    }
   ],
   "source": [
    "#Split-1D\n",
    "arr=np.array([1,2,3,4,5,6,7,8,9])\n",
    "x1,x2,x3=np.split(arr,[3,6])\n",
    "print(x1)\n",
    "print(x2)\n",
    "print(x3)"
   ]
  },
  {
   "cell_type": "code",
   "execution_count": 25,
   "id": "b80e172c",
   "metadata": {},
   "outputs": [
    {
     "name": "stdout",
     "output_type": "stream",
     "text": [
      "[[0 1 2]]\n",
      "[[3 4 5]\n",
      " [6 7 8]]\n"
     ]
    }
   ],
   "source": [
    "#Split-2D-vertical\n",
    "arr=np.arange(9).reshape([3,3])\n",
    "x1,x2=np.vsplit(arr,[1])\n",
    "print(x1)\n",
    "print(x2)"
   ]
  },
  {
   "cell_type": "code",
   "execution_count": 26,
   "id": "7bb334bb",
   "metadata": {},
   "outputs": [
    {
     "name": "stdout",
     "output_type": "stream",
     "text": [
      "[[0]\n",
      " [3]\n",
      " [6]]\n",
      "[[1 2]\n",
      " [4 5]\n",
      " [7 8]]\n"
     ]
    }
   ],
   "source": [
    "#Split-2D-horizontal\n",
    "arr=np.arange(9).reshape([3,3])\n",
    "x1,x2=np.hsplit(arr,[1])\n",
    "print(x1)\n",
    "print(x2)"
   ]
  },
  {
   "cell_type": "markdown",
   "id": "84d7bbca",
   "metadata": {},
   "source": [
    "# Universal functions\n",
    "The key to make computations fast in NumPy Array is to use vectorized operations, generally implemented through Num‐\n",
    "Py’s universal functions (ufuncs)."
   ]
  },
  {
   "cell_type": "code",
   "execution_count": 31,
   "id": "07c1a9e0",
   "metadata": {},
   "outputs": [
    {
     "name": "stdout",
     "output_type": "stream",
     "text": [
      "x = [0 1 2 3]\n",
      "x + 5 = [5 6 7 8]\n",
      "x - 5 = [-5 -4 -3 -2]\n",
      "x * 2 = [0 2 4 6]\n",
      "x + 5 = [0.  0.2 0.4 0.6]\n",
      "x - 5 = [0 0 0 0]\n",
      "x * 2 = [0 1 4 9]\n",
      "x * 2 = [0 1 0 1]\n",
      "-x= [ 0 -1 -2 -3]\n"
     ]
    }
   ],
   "source": [
    "#Array arithmetic\n",
    "x = np.arange(4)\n",
    "print(\"x =\", x)\n",
    "print(\"x + 5 =\", x + 5)#np.add(x,5)\n",
    "print(\"x - 5 =\", x - 5)#np.subtract(x,5)\n",
    "print(\"x * 2 =\", x * 2)#np.multiply(x,5)\n",
    "print(\"x + 5 =\", x /5)#np.divide(x,5)\n",
    "print(\"x - 5 =\", x // 5)#np.floor_divide(x,5)\n",
    "print(\"x * 2 =\", x **2)#np.power(x,2)\n",
    "print(\"x * 2 =\", x %2)#np.mod(x,2)\n",
    "print(\"-x=\",-x)#np.negative(x)\n",
    "#np.abs(x) and np.absolute(x)"
   ]
  },
  {
   "cell_type": "code",
   "execution_count": 32,
   "id": "96fc8e9e",
   "metadata": {},
   "outputs": [
    {
     "name": "stdout",
     "output_type": "stream",
     "text": [
      "theta =  [0.         1.57079633 3.14159265]\n",
      "sin(theta) =  [0.0000000e+00 1.0000000e+00 1.2246468e-16]\n",
      "cos(theta) =  [ 1.000000e+00  6.123234e-17 -1.000000e+00]\n",
      "tan(theta) =  [ 0.00000000e+00  1.63312394e+16 -1.22464680e-16]\n"
     ]
    }
   ],
   "source": [
    "#trignometric functions\n",
    "theta = np.linspace(0, np.pi, 3)\n",
    "print(\"theta = \", theta)\n",
    "print(\"sin(theta) = \", np.sin(theta))\n",
    "print(\"cos(theta) = \", np.cos(theta))\n",
    "print(\"tan(theta) = \", np.tan(theta))\n"
   ]
  },
  {
   "cell_type": "code",
   "execution_count": 33,
   "id": "146a6db6",
   "metadata": {},
   "outputs": [
    {
     "name": "stdout",
     "output_type": "stream",
     "text": [
      "x = [1, 2, 3]\n",
      "e^x = [ 2.71828183  7.3890561  20.08553692]\n",
      "2^x = [2. 4. 8.]\n",
      "3^x = [ 3  9 27]\n",
      "x = [1, 2, 4, 10]\n",
      "ln(x) = [0.         0.69314718 1.38629436 2.30258509]\n",
      "log2(x) = [0.         1.         2.         3.32192809]\n",
      "log10(x) = [0.         0.30103    0.60205999 1.        ]\n"
     ]
    }
   ],
   "source": [
    "#Exponents and logarithms\n",
    "x = [1, 2, 3]\n",
    "print(\"x =\", x)\n",
    "print(\"e^x =\", np.exp(x))\n",
    "print(\"2^x =\", np.exp2(x))\n",
    " print(\"3^x =\", np.power(3, x))\n",
    "x = [1, 2, 4, 10]\n",
    "print(\"x =\", x)\n",
    "print(\"ln(x) =\", np.log(x))\n",
    "print(\"log2(x) =\", np.log2(x))\n",
    "print(\"log10(x) =\", np.log10(x))"
   ]
  },
  {
   "cell_type": "markdown",
   "id": "8191bc8d",
   "metadata": {},
   "source": [
    "# Aggregate Functions\n",
    "NumPy has fast built-in aggregation functions for working on arrays.These aggregate functions are used to compute summary\n",
    "statistics for the data"
   ]
  },
  {
   "cell_type": "code",
   "execution_count": 37,
   "id": "3bcc73c8",
   "metadata": {},
   "outputs": [
    {
     "name": "stdout",
     "output_type": "stream",
     "text": [
      "107 ms ± 4.7 ms per loop (mean ± std. dev. of 7 runs, 10 loops each)\n",
      "1.67 ms ± 45.9 µs per loop (mean ± std. dev. of 7 runs, 1000 loops each)\n"
     ]
    }
   ],
   "source": [
    "big_array = np.random.rand(1000000)\n",
    "%timeit sum(big_array)\n",
    "%timeit np.sum(big_array)"
   ]
  },
  {
   "cell_type": "code",
   "execution_count": 35,
   "id": "e11ad047",
   "metadata": {},
   "outputs": [
    {
     "name": "stdout",
     "output_type": "stream",
     "text": [
      "67 ms ± 5.13 ms per loop (mean ± std. dev. of 7 runs, 10 loops each)\n",
      "617 µs ± 12.8 µs per loop (mean ± std. dev. of 7 runs, 1000 loops each)\n"
     ]
    }
   ],
   "source": [
    "%timeit min(big_array)\n",
    "%timeit np.min(big_array)"
   ]
  },
  {
   "cell_type": "code",
   "execution_count": null,
   "id": "bca87de4",
   "metadata": {},
   "outputs": [],
   "source": []
  }
 ],
 "metadata": {
  "kernelspec": {
   "display_name": "Python 3",
   "language": "python",
   "name": "python3"
  },
  "language_info": {
   "codemirror_mode": {
    "name": "ipython",
    "version": 3
   },
   "file_extension": ".py",
   "mimetype": "text/x-python",
   "name": "python",
   "nbconvert_exporter": "python",
   "pygments_lexer": "ipython3",
   "version": "3.8.8"
  }
 },
 "nbformat": 4,
 "nbformat_minor": 5
}
