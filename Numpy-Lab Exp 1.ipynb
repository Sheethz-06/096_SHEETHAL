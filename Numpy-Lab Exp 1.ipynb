{
 "cells": [
  {
   "cell_type": "markdown",
   "id": "4e8ab3b2",
   "metadata": {},
   "source": [
    "# Ex No 1.a: Basic NumPy Array Operations\n",
    "\n",
    "Aim:\n",
    "To understand the basics of NumPy arrays, including creation, attributes, slicing and indexing.\n",
    "\n",
    "Scenario:\n",
    "You are a data scientist working with a dataset of students' scores in various subjects. You need to organize this data efficiently for analysis.\n",
    "\n",
    "Sample Dataset:\n",
    "data = [\n",
    "    [85, 92, 78, 90],\n",
    "    [88, 79, 85, 93],\n",
    "    [91, 85, 87, 88],\n",
    "    [76, 88, 84, 91]\n",
    "]\n",
    "subjects = ['Math', 'Physics', 'Chemistry', 'Biology']\n",
    "\n",
    "Task to be Performed:\n",
    "1.\tCreate a NumPy array from the given dataset.\n",
    "2.\tRetrieve the attributes of the array (shape, size, dtype).\n",
    "3.\tSlice the array to get the scores of the first two students.\n",
    "4.\tIndex the array to get the score of the second student in Chemistry.\n"
   ]
  },
  {
   "cell_type": "code",
   "execution_count": null,
   "id": "122c82fe",
   "metadata": {},
   "outputs": [],
   "source": []
  },
  {
   "cell_type": "markdown",
   "id": "8490d197",
   "metadata": {},
   "source": [
    "# Ex No 1.b: Basic NumPy Array Operations\n",
    "\n",
    "Aim: To understand the basics of NumPy arrays, including creation, attributes, slicing and indexing.\n",
    "\n",
    "Scenario: You are a financial analyst working with a dataset of monthly sales revenue for a company over a year. You need to organize and analyze this data efficiently.\n",
    "\n",
    "Sample Dataset:\n",
    "months = ['January', 'February', 'March', 'April', 'May', 'June', 'July', 'August', 'September', 'October', 'November', 'December']\n",
    "sales_revenue = [12000, 15000, 17000, 13000, 16000, 18000, 20000, 19000, 17500, 16000, 15000, 16500]\n",
    "\n",
    "Task to be Performed:\n",
    "1.\tCreate a NumPy array from the sales revenue list.\n",
    "2.\tRetrieve the attributes of the array (shape, size, dtype).\n",
    "3.\tSlice the array to get the sales revenue for the first half of the year.\n",
    "4.\tIndex the array to get the sales revenue for May.\n",
    "5.\tCalculate the total sales revenue for the year.\n",
    "6.\tFind the month with the highest sales revenue.\n",
    "Expected Output:\n",
    "Shape: (12,)\n",
    "Size: 12\n",
    "Data type: int32\n",
    "First half of the year sales revenue: [12000 15000 17000 13000 16000 18000]\n",
    "Sales revenue for May: 16000\n",
    "Total sales revenue for the year: 195500\n",
    "Month with highest sales revenue: July\n"
   ]
  },
  {
   "cell_type": "code",
   "execution_count": null,
   "id": "ca2cbdb5",
   "metadata": {},
   "outputs": [],
   "source": []
  },
  {
   "cell_type": "code",
   "execution_count": null,
   "id": "e56c8d72",
   "metadata": {},
   "outputs": [],
   "source": []
  }
 ],
 "metadata": {
  "kernelspec": {
   "display_name": "Python 3",
   "language": "python",
   "name": "python3"
  },
  "language_info": {
   "codemirror_mode": {
    "name": "ipython",
    "version": 3
   },
   "file_extension": ".py",
   "mimetype": "text/x-python",
   "name": "python",
   "nbconvert_exporter": "python",
   "pygments_lexer": "ipython3",
   "version": "3.8.8"
  }
 },
 "nbformat": 4,
 "nbformat_minor": 5
}
