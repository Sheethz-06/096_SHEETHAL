{
 "cells": [
  {
   "cell_type": "markdown",
   "id": "4e8ab3b2",
   "metadata": {},
   "source": [
    "# Ex No 1.c: Universal Functions\n",
    "Aim:\n",
    "To explore the use of universal functions in NumPy for element-wise operations, including mathematical, statistical, and trigonometric functions.\n",
    "Scenario:\n",
    "You are working as a data scientist for a sports analytics company. You need to analyze the performance metrics of athletes in a decathlon event. The data includes various performance metrics such as running speeds, jump heights, and throw distances. You need to apply various universal functions to analyze and normalize this data.\n",
    "Sample Dataset:\n",
    "performance_data = {\n",
    "    'running_speed': [10.5, 9.8, 11.2, 10.0, 9.7],\n",
    "    'jump_height': [2.1, 2.3, 2.0, 2.4, 2.2],\n",
    "    'throw_distance': [60.5, 62.0, 59.8, 61.2, 63.5]\n",
    "}\n",
    "Task to be Performed:\n",
    "1.\tCreate a NumPy array for each performance metric.\n",
    "2.\tCalculate the square of the running speeds using a universal function.\n",
    "3.\tNormalize the jump heights by subtracting the mean and dividing by the standard deviation.\n",
    "4.\tApply the exponential function to the throw distances to model their growth.\n",
    "5.\tCalculate the logarithm of the normalized jump heights to explore the data distribution.\n",
    "6.\tApply the sine function to the running speeds to study their periodic behavior.\n"
   ]
  },
  {
   "cell_type": "code",
   "execution_count": null,
   "id": "122c82fe",
   "metadata": {},
   "outputs": [],
   "source": []
  },
  {
   "cell_type": "markdown",
   "id": "8490d197",
   "metadata": {},
   "source": [
    "# Ex No 1.d: Aggregate Functions\n",
    "\n",
    "Aim:\n",
    "To use aggregate functions in NumPy for summarizing and analyzing data.\n",
    "\n",
    "Scenario:\n",
    "You are a financial analyst examining the monthly returns of different investment portfolios. You need to calculate various aggregate statistics to understand the performance and risk associated with each portfolio.\n",
    "\n",
    "Sample Dataset:\n",
    "returns_data = {\n",
    "    'portfolio_A': [0.05, 0.02, 0.04, 0.03, 0.06, 0.01],\n",
    "    'portfolio_B': [0.04, 0.03, 0.05, 0.02, 0.01, 0.04],\n",
    "    'portfolio_C': [0.03, 0.01, 0.02, 0.03, 0.04, 0.05]\n",
    "}\n",
    "\n",
    "Task to be Performed:\n",
    "1.\tCreate a NumPy array for each portfolio's returns.\n",
    "2.\tCalculate the total return for each portfolio over the six months.\n",
    "3.\tCalculate the mean monthly return for each portfolio.\n",
    "4.\tFind the portfolio with the highest mean return.\n",
    "5.\tCalculate the overall average return across all portfolios.\n",
    "6.\tDetermine the variance and standard deviation of the returns for each portfolio to assess risk.\n"
   ]
  },
  {
   "cell_type": "code",
   "execution_count": null,
   "id": "ca2cbdb5",
   "metadata": {},
   "outputs": [],
   "source": []
  },
  {
   "cell_type": "code",
   "execution_count": null,
   "id": "e56c8d72",
   "metadata": {},
   "outputs": [],
   "source": []
  }
 ],
 "metadata": {
  "kernelspec": {
   "display_name": "Python 3",
   "language": "python",
   "name": "python3"
  },
  "language_info": {
   "codemirror_mode": {
    "name": "ipython",
    "version": 3
   },
   "file_extension": ".py",
   "mimetype": "text/x-python",
   "name": "python",
   "nbconvert_exporter": "python",
   "pygments_lexer": "ipython3",
   "version": "3.8.8"
  }
 },
 "nbformat": 4,
 "nbformat_minor": 5
}
